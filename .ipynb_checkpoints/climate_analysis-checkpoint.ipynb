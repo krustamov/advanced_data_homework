{
 "cells": [
  {
   "cell_type": "code",
   "execution_count": 1,
   "metadata": {
    "collapsed": true
   },
   "outputs": [],
   "source": [
    "import sqlalchemy\n",
    "from sqlalchemy.sql import func\n",
    "from sqlalchemy import create_engine, inspect\n",
    "from sqlalchemy.orm import Session\n",
    "from sqlalchemy.ext.automap import automap_base\n",
    "import pymysql\n",
    "import pandas as pd\n",
    "from warnings import filterwarnings\n",
    "filterwarnings('ignore', category=pymysql.Warning)\n",
    "from sqlalchemy.ext.declarative import declarative_base\n",
    "Base = declarative_base()\n",
    "import matplotlib\n",
    "import matplotlib.pyplot as plt\n",
    "from matplotlib import style\n",
    "style.use('seaborn')\n",
    "import numpy as np\n",
    "import datetime as dt"
   ]
  },
  {
   "cell_type": "code",
   "execution_count": 2,
   "metadata": {
    "collapsed": true
   },
   "outputs": [],
   "source": [
    "#create database called 'hawaii.sqlite\n",
    "engine = create_engine(\"sqlite:///database/hawaii.sqlite\")"
   ]
  },
  {
   "cell_type": "code",
   "execution_count": 3,
   "metadata": {
    "scrolled": true
   },
   "outputs": [
    {
     "name": "stdout",
     "output_type": "stream",
     "text": [
      "table name = w_measurement\n",
      "\tstation TEXT\n",
      "\tdate TEXT\n",
      "\tprcp TEXT\n",
      "\ttobs TEXT\n",
      "table name = w_station\n",
      "\tstation TEXT\n",
      "\tname TEXT\n",
      "\tlatitude TEXT\n",
      "\tlongitude TEXT\n",
      "\televation TEXT\n"
     ]
    }
   ],
   "source": [
    "#inspect db\n",
    "inspector = inspect(engine)\n",
    "for table_name in inspector.get_table_names():\n",
    "   print('table name = ' + table_name)\n",
    "   for column in inspector.get_columns(table_name):\n",
    "        try:\n",
    "           print(chr(9) + column['name'], column['type'])\n",
    "        except Exception as e:\n",
    "            print(f\"{column} was skipped\")\n",
    "            continue"
   ]
  },
  {
   "cell_type": "code",
   "execution_count": 4,
   "metadata": {
    "collapsed": true
   },
   "outputs": [],
   "source": [
    "#use create engine to connect to sqlite db\n",
    "Base.metadata.create_all(engine)\n",
    "session = Session(bind=engine)"
   ]
  },
  {
   "cell_type": "code",
   "execution_count": 5,
   "metadata": {
    "collapsed": true
   },
   "outputs": [],
   "source": [
    "# Use the Base class to reflect the database tables\n",
    "Base = automap_base()\n",
    "Base.prepare(engine, reflect=True)"
   ]
  },
  {
   "cell_type": "code",
   "execution_count": 6,
   "metadata": {},
   "outputs": [
    {
     "data": {
      "text/plain": [
       "[('USC00519397', '2017-08-23', '0', '81'),\n",
       " ('USC00514830', '2017-08-23', '0', '82'),\n",
       " ('USC00519523', '2017-08-23', '0.08', '82'),\n",
       " ('USC00516128', '2017-08-23', '0.45', '76'),\n",
       " ('USC00519397', '2017-08-22', '0', '82'),\n",
       " ('USC00519523', '2017-08-22', '0', '82'),\n",
       " ('USC00516128', '2017-08-22', '0.5', '76'),\n",
       " ('USC00519397', '2017-08-21', '0', '81'),\n",
       " ('USC00514830', '2017-08-21', '0.02', '79'),\n",
       " ('USC00516128', '2017-08-21', '0.56', '76')]"
      ]
     },
     "execution_count": 6,
     "metadata": {},
     "output_type": "execute_result"
    }
   ],
   "source": [
    "engine.execute('select * from w_measurement order by date desc limit 10').fetchall()"
   ]
  },
  {
   "cell_type": "code",
   "execution_count": 7,
   "metadata": {
    "scrolled": false
   },
   "outputs": [
    {
     "data": {
      "text/plain": [
       "[('USC00519397', 'WAIKIKI 717.2, HI US', '21.2716', '-157.8168', '3'),\n",
       " ('USC00513117', 'KANEOHE 838.1, HI US', '21.4234', '-157.8015', '14.6'),\n",
       " ('USC00514830', 'KUALOA RANCH HEADQUARTERS 886.9, HI US', '21.5213', '-157.8374', '7'),\n",
       " ('USC00517948', 'PEARL CITY, HI US', '21.3934', '-157.9751', '11.9'),\n",
       " ('USC00518838', 'UPPER WAHIAWA 874.3, HI US', '21.4992', '-158.0111', '306.6'),\n",
       " ('USC00519523', 'WAIMANALO EXPERIMENTAL FARM, HI US', '21.33556', '-157.71139', '19.5'),\n",
       " ('USC00519281', 'WAIHEE 837.5, HI US', '21.45167', '-157.84889', '32.9'),\n",
       " ('USC00511918', 'HONOLULU OBSERVATORY 702.2, HI US', '21.3152', '-157.9992', '0.9'),\n",
       " ('USC00516128', 'MANOA LYON ARBO 785.2, HI US', '21.3331', '-157.8025', '152.4')]"
      ]
     },
     "execution_count": 7,
     "metadata": {},
     "output_type": "execute_result"
    }
   ],
   "source": [
    "engine.execute('select * from w_station limit 10').fetchall()"
   ]
  },
  {
   "cell_type": "code",
   "execution_count": 35,
   "metadata": {
    "scrolled": true
   },
   "outputs": [
    {
     "data": {
      "text/html": [
       "<div>\n",
       "<style>\n",
       "    .dataframe thead tr:only-child th {\n",
       "        text-align: right;\n",
       "    }\n",
       "\n",
       "    .dataframe thead th {\n",
       "        text-align: left;\n",
       "    }\n",
       "\n",
       "    .dataframe tbody tr th {\n",
       "        vertical-align: top;\n",
       "    }\n",
       "</style>\n",
       "<table border=\"1\" class=\"dataframe\">\n",
       "  <thead>\n",
       "    <tr style=\"text-align: right;\">\n",
       "      <th></th>\n",
       "      <th>station</th>\n",
       "      <th>date</th>\n",
       "      <th>prcp</th>\n",
       "      <th>tobs</th>\n",
       "      <th>name</th>\n",
       "      <th>latitude</th>\n",
       "      <th>longitude</th>\n",
       "      <th>elevation</th>\n",
       "    </tr>\n",
       "  </thead>\n",
       "  <tbody>\n",
       "    <tr>\n",
       "      <th>0</th>\n",
       "      <td>USC00516128</td>\n",
       "      <td>2016-08-24</td>\n",
       "      <td>1.45</td>\n",
       "      <td>74</td>\n",
       "      <td>MANOA LYON ARBO 785.2, HI US</td>\n",
       "      <td>21.3331</td>\n",
       "      <td>-157.8025</td>\n",
       "      <td>152.4</td>\n",
       "    </tr>\n",
       "    <tr>\n",
       "      <th>1</th>\n",
       "      <td>USC00516128</td>\n",
       "      <td>2016-08-25</td>\n",
       "      <td>0.11</td>\n",
       "      <td>77</td>\n",
       "      <td>MANOA LYON ARBO 785.2, HI US</td>\n",
       "      <td>21.3331</td>\n",
       "      <td>-157.8025</td>\n",
       "      <td>152.4</td>\n",
       "    </tr>\n",
       "    <tr>\n",
       "      <th>2</th>\n",
       "      <td>USC00519281</td>\n",
       "      <td>2016-08-26</td>\n",
       "      <td>0.01</td>\n",
       "      <td>80</td>\n",
       "      <td>WAIHEE 837.5, HI US</td>\n",
       "      <td>21.45167</td>\n",
       "      <td>-157.84889</td>\n",
       "      <td>32.9</td>\n",
       "    </tr>\n",
       "    <tr>\n",
       "      <th>3</th>\n",
       "      <td>USC00519281</td>\n",
       "      <td>2016-08-27</td>\n",
       "      <td>0.12</td>\n",
       "      <td>75</td>\n",
       "      <td>WAIHEE 837.5, HI US</td>\n",
       "      <td>21.45167</td>\n",
       "      <td>-157.84889</td>\n",
       "      <td>32.9</td>\n",
       "    </tr>\n",
       "    <tr>\n",
       "      <th>4</th>\n",
       "      <td>USC00516128</td>\n",
       "      <td>2016-08-28</td>\n",
       "      <td>2.07</td>\n",
       "      <td>71</td>\n",
       "      <td>MANOA LYON ARBO 785.2, HI US</td>\n",
       "      <td>21.3331</td>\n",
       "      <td>-157.8025</td>\n",
       "      <td>152.4</td>\n",
       "    </tr>\n",
       "    <tr>\n",
       "      <th>5</th>\n",
       "      <td>USC00516128</td>\n",
       "      <td>2016-08-29</td>\n",
       "      <td>0.9</td>\n",
       "      <td>78</td>\n",
       "      <td>MANOA LYON ARBO 785.2, HI US</td>\n",
       "      <td>21.3331</td>\n",
       "      <td>-157.8025</td>\n",
       "      <td>152.4</td>\n",
       "    </tr>\n",
       "    <tr>\n",
       "      <th>6</th>\n",
       "      <td>USC00516128</td>\n",
       "      <td>2016-08-30</td>\n",
       "      <td>0.05</td>\n",
       "      <td>75</td>\n",
       "      <td>MANOA LYON ARBO 785.2, HI US</td>\n",
       "      <td>21.3331</td>\n",
       "      <td>-157.8025</td>\n",
       "      <td>152.4</td>\n",
       "    </tr>\n",
       "    <tr>\n",
       "      <th>7</th>\n",
       "      <td>USC00516128</td>\n",
       "      <td>2016-08-31</td>\n",
       "      <td>2.46</td>\n",
       "      <td>76</td>\n",
       "      <td>MANOA LYON ARBO 785.2, HI US</td>\n",
       "      <td>21.3331</td>\n",
       "      <td>-157.8025</td>\n",
       "      <td>152.4</td>\n",
       "    </tr>\n",
       "    <tr>\n",
       "      <th>8</th>\n",
       "      <td>USC00516128</td>\n",
       "      <td>2016-09-01</td>\n",
       "      <td>0.01</td>\n",
       "      <td>77</td>\n",
       "      <td>MANOA LYON ARBO 785.2, HI US</td>\n",
       "      <td>21.3331</td>\n",
       "      <td>-157.8025</td>\n",
       "      <td>152.4</td>\n",
       "    </tr>\n",
       "    <tr>\n",
       "      <th>9</th>\n",
       "      <td>USC00516128</td>\n",
       "      <td>2016-09-02</td>\n",
       "      <td>0.03</td>\n",
       "      <td>75</td>\n",
       "      <td>MANOA LYON ARBO 785.2, HI US</td>\n",
       "      <td>21.3331</td>\n",
       "      <td>-157.8025</td>\n",
       "      <td>152.4</td>\n",
       "    </tr>\n",
       "  </tbody>\n",
       "</table>\n",
       "</div>"
      ],
      "text/plain": [
       "       station        date  prcp tobs                          name  latitude  \\\n",
       "0  USC00516128  2016-08-24  1.45   74  MANOA LYON ARBO 785.2, HI US   21.3331   \n",
       "1  USC00516128  2016-08-25  0.11   77  MANOA LYON ARBO 785.2, HI US   21.3331   \n",
       "2  USC00519281  2016-08-26  0.01   80           WAIHEE 837.5, HI US  21.45167   \n",
       "3  USC00519281  2016-08-27  0.12   75           WAIHEE 837.5, HI US  21.45167   \n",
       "4  USC00516128  2016-08-28  2.07   71  MANOA LYON ARBO 785.2, HI US   21.3331   \n",
       "5  USC00516128  2016-08-29   0.9   78  MANOA LYON ARBO 785.2, HI US   21.3331   \n",
       "6  USC00516128  2016-08-30  0.05   75  MANOA LYON ARBO 785.2, HI US   21.3331   \n",
       "7  USC00516128  2016-08-31  2.46   76  MANOA LYON ARBO 785.2, HI US   21.3331   \n",
       "8  USC00516128  2016-09-01  0.01   77  MANOA LYON ARBO 785.2, HI US   21.3331   \n",
       "9  USC00516128  2016-09-02  0.03   75  MANOA LYON ARBO 785.2, HI US   21.3331   \n",
       "\n",
       "    longitude elevation  \n",
       "0   -157.8025     152.4  \n",
       "1   -157.8025     152.4  \n",
       "2  -157.84889      32.9  \n",
       "3  -157.84889      32.9  \n",
       "4   -157.8025     152.4  \n",
       "5   -157.8025     152.4  \n",
       "6   -157.8025     152.4  \n",
       "7   -157.8025     152.4  \n",
       "8   -157.8025     152.4  \n",
       "9   -157.8025     152.4  "
      ]
     },
     "execution_count": 35,
     "metadata": {},
     "output_type": "execute_result"
    }
   ],
   "source": [
    "#query to retrieve 12 months\n",
    "weather_df = pd.read_sql_query('select w_measurement.station, date, prcp, tobs, w_station.name, \\\n",
    "latitude, longitude, elevation \\\n",
    "from w_measurement \\\n",
    "inner join w_station \\\n",
    "on w_measurement.station = w_station.station \\\n",
    "group by date \\\n",
    "having date between \"2016-08-24\" and \"2017-08-23\"', engine)\n",
    "weather_df.head(10)"
   ]
  },
  {
   "cell_type": "code",
   "execution_count": 36,
   "metadata": {},
   "outputs": [
    {
     "data": {
      "text/html": [
       "<div>\n",
       "<style>\n",
       "    .dataframe thead tr:only-child th {\n",
       "        text-align: right;\n",
       "    }\n",
       "\n",
       "    .dataframe thead th {\n",
       "        text-align: left;\n",
       "    }\n",
       "\n",
       "    .dataframe tbody tr th {\n",
       "        vertical-align: top;\n",
       "    }\n",
       "</style>\n",
       "<table border=\"1\" class=\"dataframe\">\n",
       "  <thead>\n",
       "    <tr style=\"text-align: right;\">\n",
       "      <th></th>\n",
       "      <th>date</th>\n",
       "      <th>prcp</th>\n",
       "    </tr>\n",
       "  </thead>\n",
       "  <tbody>\n",
       "    <tr>\n",
       "      <th>0</th>\n",
       "      <td>2016-08-24</td>\n",
       "      <td>1.45</td>\n",
       "    </tr>\n",
       "    <tr>\n",
       "      <th>1</th>\n",
       "      <td>2016-08-25</td>\n",
       "      <td>0.11</td>\n",
       "    </tr>\n",
       "    <tr>\n",
       "      <th>2</th>\n",
       "      <td>2016-08-26</td>\n",
       "      <td>0.01</td>\n",
       "    </tr>\n",
       "    <tr>\n",
       "      <th>3</th>\n",
       "      <td>2016-08-27</td>\n",
       "      <td>0.12</td>\n",
       "    </tr>\n",
       "    <tr>\n",
       "      <th>4</th>\n",
       "      <td>2016-08-28</td>\n",
       "      <td>2.07</td>\n",
       "    </tr>\n",
       "    <tr>\n",
       "      <th>5</th>\n",
       "      <td>2016-08-29</td>\n",
       "      <td>0.90</td>\n",
       "    </tr>\n",
       "    <tr>\n",
       "      <th>6</th>\n",
       "      <td>2016-08-30</td>\n",
       "      <td>0.05</td>\n",
       "    </tr>\n",
       "    <tr>\n",
       "      <th>7</th>\n",
       "      <td>2016-08-31</td>\n",
       "      <td>2.46</td>\n",
       "    </tr>\n",
       "    <tr>\n",
       "      <th>8</th>\n",
       "      <td>2016-09-01</td>\n",
       "      <td>0.01</td>\n",
       "    </tr>\n",
       "    <tr>\n",
       "      <th>9</th>\n",
       "      <td>2016-09-02</td>\n",
       "      <td>0.03</td>\n",
       "    </tr>\n",
       "  </tbody>\n",
       "</table>\n",
       "</div>"
      ],
      "text/plain": [
       "        date  prcp\n",
       "0 2016-08-24  1.45\n",
       "1 2016-08-25  0.11\n",
       "2 2016-08-26  0.01\n",
       "3 2016-08-27  0.12\n",
       "4 2016-08-28  2.07\n",
       "5 2016-08-29  0.90\n",
       "6 2016-08-30  0.05\n",
       "7 2016-08-31  2.46\n",
       "8 2016-09-01  0.01\n",
       "9 2016-09-02  0.03"
      ]
     },
     "execution_count": 36,
     "metadata": {},
     "output_type": "execute_result"
    }
   ],
   "source": [
    "#select date and prcp values\n",
    "prcp_df = pd.DataFrame(weather_df, columns=['date', 'prcp'])\n",
    "prcp_df['date'] = pd.to_datetime(prcp_df['date'], format='%Y/%m/%d')\n",
    "prcp_df.set_index(prcp_df['date'])\n",
    "prcp_df.reset_index()\n",
    "prcp_df.prcp = prcp_df.prcp.astype(float)\n",
    "prcp_df.head(10)"
   ]
  },
  {
   "cell_type": "code",
   "execution_count": 10,
   "metadata": {},
   "outputs": [
    {
     "data": {
      "image/png": "[encoded data removed]",
      "text/plain": [
       "<matplotlib.figure.Figure at 0x2a8ab0ae470>"
      ]
     },
     "metadata": {},
     "output_type": "display_data"
    }
   ],
   "source": [
    "#Plot the precipitation dataframe\n",
    "prcp_df.plot('date', 'prcp', figsize=(15, 8))\n",
    "plt.xlabel(\"Dates\")\n",
    "plt.ylabel(\"Precipitation in inches\")\n",
    "plt.title(\"Hawaii Weather Analysis 8/24/2016 to 8/23/2017\")\n",
    "plt.legend([\"Precipitation\"])\n",
    "plt.savefig(\"precipitation.png\")\n",
    "plt.show()"
   ]
  },
  {
   "cell_type": "code",
   "execution_count": 11,
   "metadata": {},
   "outputs": [
    {
     "data": {
      "text/html": [
       "<div>\n",
       "<style>\n",
       "    .dataframe thead tr:only-child th {\n",
       "        text-align: right;\n",
       "    }\n",
       "\n",
       "    .dataframe thead th {\n",
       "        text-align: left;\n",
       "    }\n",
       "\n",
       "    .dataframe tbody tr th {\n",
       "        vertical-align: top;\n",
       "    }\n",
       "</style>\n",
       "<table border=\"1\" class=\"dataframe\">\n",
       "  <thead>\n",
       "    <tr style=\"text-align: right;\">\n",
       "      <th></th>\n",
       "      <th>name</th>\n",
       "      <th>Number of Stations</th>\n",
       "    </tr>\n",
       "  </thead>\n",
       "  <tbody>\n",
       "    <tr>\n",
       "      <th>0</th>\n",
       "      <td>HONOLULU OBSERVATORY 702.2, HI US</td>\n",
       "      <td>1</td>\n",
       "    </tr>\n",
       "    <tr>\n",
       "      <th>1</th>\n",
       "      <td>KANEOHE 838.1, HI US</td>\n",
       "      <td>1</td>\n",
       "    </tr>\n",
       "    <tr>\n",
       "      <th>2</th>\n",
       "      <td>KUALOA RANCH HEADQUARTERS 886.9, HI US</td>\n",
       "      <td>1</td>\n",
       "    </tr>\n",
       "    <tr>\n",
       "      <th>3</th>\n",
       "      <td>MANOA LYON ARBO 785.2, HI US</td>\n",
       "      <td>1</td>\n",
       "    </tr>\n",
       "    <tr>\n",
       "      <th>4</th>\n",
       "      <td>PEARL CITY, HI US</td>\n",
       "      <td>1</td>\n",
       "    </tr>\n",
       "    <tr>\n",
       "      <th>5</th>\n",
       "      <td>UPPER WAHIAWA 874.3, HI US</td>\n",
       "      <td>1</td>\n",
       "    </tr>\n",
       "    <tr>\n",
       "      <th>6</th>\n",
       "      <td>WAIHEE 837.5, HI US</td>\n",
       "      <td>1</td>\n",
       "    </tr>\n",
       "    <tr>\n",
       "      <th>7</th>\n",
       "      <td>WAIKIKI 717.2, HI US</td>\n",
       "      <td>1</td>\n",
       "    </tr>\n",
       "    <tr>\n",
       "      <th>8</th>\n",
       "      <td>WAIMANALO EXPERIMENTAL FARM, HI US</td>\n",
       "      <td>1</td>\n",
       "    </tr>\n",
       "  </tbody>\n",
       "</table>\n",
       "</div>"
      ],
      "text/plain": [
       "                                     name  Number of Stations\n",
       "0       HONOLULU OBSERVATORY 702.2, HI US                   1\n",
       "1                    KANEOHE 838.1, HI US                   1\n",
       "2  KUALOA RANCH HEADQUARTERS 886.9, HI US                   1\n",
       "3            MANOA LYON ARBO 785.2, HI US                   1\n",
       "4                       PEARL CITY, HI US                   1\n",
       "5              UPPER WAHIAWA 874.3, HI US                   1\n",
       "6                     WAIHEE 837.5, HI US                   1\n",
       "7                    WAIKIKI 717.2, HI US                   1\n",
       "8      WAIMANALO EXPERIMENTAL FARM, HI US                   1"
      ]
     },
     "execution_count": 11,
     "metadata": {},
     "output_type": "execute_result"
    }
   ],
   "source": [
    "station_df = pd.read_sql_query('select name, count(distinct station) as \"Number of Stations\" from w_station \\\n",
    "group by station', engine)\n",
    "station_df"
   ]
  },
  {
   "cell_type": "code",
   "execution_count": 37,
   "metadata": {},
   "outputs": [
    {
     "name": "stdout",
     "output_type": "stream",
     "text": [
      "Number of Stations: 9\n"
     ]
    }
   ],
   "source": [
    "#total number of stations\n",
    "print(f'Number of Stations: {len(station_df)}')"
   ]
  },
  {
   "cell_type": "code",
   "execution_count": 39,
   "metadata": {
    "scrolled": true
   },
   "outputs": [
    {
     "data": {
      "text/html": [
       "<div>\n",
       "<style>\n",
       "    .dataframe thead tr:only-child th {\n",
       "        text-align: right;\n",
       "    }\n",
       "\n",
       "    .dataframe thead th {\n",
       "        text-align: left;\n",
       "    }\n",
       "\n",
       "    .dataframe tbody tr th {\n",
       "        vertical-align: top;\n",
       "    }\n",
       "</style>\n",
       "<table border=\"1\" class=\"dataframe\">\n",
       "  <thead>\n",
       "    <tr style=\"text-align: right;\">\n",
       "      <th></th>\n",
       "      <th>station</th>\n",
       "      <th>name</th>\n",
       "      <th>Total Daily Activity</th>\n",
       "    </tr>\n",
       "  </thead>\n",
       "  <tbody>\n",
       "    <tr>\n",
       "      <th>0</th>\n",
       "      <td>USC00519281</td>\n",
       "      <td>WAIHEE 837.5, HI US</td>\n",
       "      <td>2772</td>\n",
       "    </tr>\n",
       "    <tr>\n",
       "      <th>1</th>\n",
       "      <td>USC00513117</td>\n",
       "      <td>KANEOHE 838.1, HI US</td>\n",
       "      <td>2696</td>\n",
       "    </tr>\n",
       "    <tr>\n",
       "      <th>2</th>\n",
       "      <td>USC00519397</td>\n",
       "      <td>WAIKIKI 717.2, HI US</td>\n",
       "      <td>2685</td>\n",
       "    </tr>\n",
       "    <tr>\n",
       "      <th>3</th>\n",
       "      <td>USC00519523</td>\n",
       "      <td>WAIMANALO EXPERIMENTAL FARM, HI US</td>\n",
       "      <td>2572</td>\n",
       "    </tr>\n",
       "    <tr>\n",
       "      <th>4</th>\n",
       "      <td>USC00516128</td>\n",
       "      <td>MANOA LYON ARBO 785.2, HI US</td>\n",
       "      <td>2484</td>\n",
       "    </tr>\n",
       "    <tr>\n",
       "      <th>5</th>\n",
       "      <td>USC00514830</td>\n",
       "      <td>KUALOA RANCH HEADQUARTERS 886.9, HI US</td>\n",
       "      <td>1937</td>\n",
       "    </tr>\n",
       "    <tr>\n",
       "      <th>6</th>\n",
       "      <td>USC00511918</td>\n",
       "      <td>HONOLULU OBSERVATORY 702.2, HI US</td>\n",
       "      <td>1932</td>\n",
       "    </tr>\n",
       "    <tr>\n",
       "      <th>7</th>\n",
       "      <td>USC00517948</td>\n",
       "      <td>PEARL CITY, HI US</td>\n",
       "      <td>683</td>\n",
       "    </tr>\n",
       "    <tr>\n",
       "      <th>8</th>\n",
       "      <td>USC00518838</td>\n",
       "      <td>UPPER WAHIAWA 874.3, HI US</td>\n",
       "      <td>342</td>\n",
       "    </tr>\n",
       "  </tbody>\n",
       "</table>\n",
       "</div>"
      ],
      "text/plain": [
       "       station                                    name  Total Daily Activity\n",
       "0  USC00519281                     WAIHEE 837.5, HI US                  2772\n",
       "1  USC00513117                    KANEOHE 838.1, HI US                  2696\n",
       "2  USC00519397                    WAIKIKI 717.2, HI US                  2685\n",
       "3  USC00519523      WAIMANALO EXPERIMENTAL FARM, HI US                  2572\n",
       "4  USC00516128            MANOA LYON ARBO 785.2, HI US                  2484\n",
       "5  USC00514830  KUALOA RANCH HEADQUARTERS 886.9, HI US                  1937\n",
       "6  USC00511918       HONOLULU OBSERVATORY 702.2, HI US                  1932\n",
       "7  USC00517948                       PEARL CITY, HI US                   683\n",
       "8  USC00518838              UPPER WAHIAWA 874.3, HI US                   342"
      ]
     },
     "execution_count": 39,
     "metadata": {},
     "output_type": "execute_result"
    }
   ],
   "source": [
    "#most active stations in descending order\n",
    "station_df = pd.read_sql_query('select w_measurement.station, w_station.name, count(date) as \"Total Daily Activity\" \\\n",
    "from w_measurement \\\n",
    "inner join w_station \\\n",
    "on w_measurement.station = w_station.station \\\n",
    "group by name order by \"Total Daily Activity\" desc', engine)\n",
    "station_df.head(10)"
   ]
  },
  {
   "cell_type": "code",
   "execution_count": 14,
   "metadata": {},
   "outputs": [
    {
     "data": {
      "text/html": [
       "<div>\n",
       "<style>\n",
       "    .dataframe thead tr:only-child th {\n",
       "        text-align: right;\n",
       "    }\n",
       "\n",
       "    .dataframe thead th {\n",
       "        text-align: left;\n",
       "    }\n",
       "\n",
       "    .dataframe tbody tr th {\n",
       "        vertical-align: top;\n",
       "    }\n",
       "</style>\n",
       "<table border=\"1\" class=\"dataframe\">\n",
       "  <thead>\n",
       "    <tr style=\"text-align: right;\">\n",
       "      <th></th>\n",
       "      <th>station</th>\n",
       "      <th>name</th>\n",
       "      <th>Total Daily Activity</th>\n",
       "    </tr>\n",
       "  </thead>\n",
       "  <tbody>\n",
       "    <tr>\n",
       "      <th>0</th>\n",
       "      <td>USC00519281</td>\n",
       "      <td>WAIHEE 837.5, HI US</td>\n",
       "      <td>2772</td>\n",
       "    </tr>\n",
       "  </tbody>\n",
       "</table>\n",
       "</div>"
      ],
      "text/plain": [
       "       station                 name  Total Daily Activity\n",
       "0  USC00519281  WAIHEE 837.5, HI US                  2772"
      ]
     },
     "execution_count": 14,
     "metadata": {},
     "output_type": "execute_result"
    }
   ],
   "source": [
    "station_df.head(1)"
   ]
  },
  {
   "cell_type": "code",
   "execution_count": 43,
   "metadata": {
    "scrolled": true
   },
   "outputs": [
    {
     "data": {
      "text/html": [
       "<div>\n",
       "<style>\n",
       "    .dataframe thead tr:only-child th {\n",
       "        text-align: right;\n",
       "    }\n",
       "\n",
       "    .dataframe thead th {\n",
       "        text-align: left;\n",
       "    }\n",
       "\n",
       "    .dataframe tbody tr th {\n",
       "        vertical-align: top;\n",
       "    }\n",
       "</style>\n",
       "<table border=\"1\" class=\"dataframe\">\n",
       "  <thead>\n",
       "    <tr style=\"text-align: right;\">\n",
       "      <th></th>\n",
       "      <th>station</th>\n",
       "      <th>name</th>\n",
       "      <th>Total Observations</th>\n",
       "    </tr>\n",
       "  </thead>\n",
       "  <tbody>\n",
       "    <tr>\n",
       "      <th>0</th>\n",
       "      <td>USC00519397</td>\n",
       "      <td>WAIKIKI 717.2, HI US</td>\n",
       "      <td>200205</td>\n",
       "    </tr>\n",
       "    <tr>\n",
       "      <th>1</th>\n",
       "      <td>USC00519281</td>\n",
       "      <td>WAIHEE 837.5, HI US</td>\n",
       "      <td>198652</td>\n",
       "    </tr>\n",
       "    <tr>\n",
       "      <th>2</th>\n",
       "      <td>USC00513117</td>\n",
       "      <td>KANEOHE 838.1, HI US</td>\n",
       "      <td>195940</td>\n",
       "    </tr>\n",
       "    <tr>\n",
       "      <th>3</th>\n",
       "      <td>USC00519523</td>\n",
       "      <td>WAIMANALO EXPERIMENTAL FARM, HI US</td>\n",
       "      <td>191698</td>\n",
       "    </tr>\n",
       "    <tr>\n",
       "      <th>4</th>\n",
       "      <td>USC00516128</td>\n",
       "      <td>MANOA LYON ARBO 785.2, HI US</td>\n",
       "      <td>176029</td>\n",
       "    </tr>\n",
       "    <tr>\n",
       "      <th>5</th>\n",
       "      <td>USC00514830</td>\n",
       "      <td>KUALOA RANCH HEADQUARTERS 886.9, HI US</td>\n",
       "      <td>144913</td>\n",
       "    </tr>\n",
       "    <tr>\n",
       "      <th>6</th>\n",
       "      <td>USC00511918</td>\n",
       "      <td>HONOLULU OBSERVATORY 702.2, HI US</td>\n",
       "      <td>138191</td>\n",
       "    </tr>\n",
       "    <tr>\n",
       "      <th>7</th>\n",
       "      <td>USC00517948</td>\n",
       "      <td>PEARL CITY, HI US</td>\n",
       "      <td>50943</td>\n",
       "    </tr>\n",
       "    <tr>\n",
       "      <th>8</th>\n",
       "      <td>USC00518838</td>\n",
       "      <td>UPPER WAHIAWA 874.3, HI US</td>\n",
       "      <td>24855</td>\n",
       "    </tr>\n",
       "  </tbody>\n",
       "</table>\n",
       "</div>"
      ],
      "text/plain": [
       "       station                                    name  Total Observations\n",
       "0  USC00519397                    WAIKIKI 717.2, HI US              200205\n",
       "1  USC00519281                     WAIHEE 837.5, HI US              198652\n",
       "2  USC00513117                    KANEOHE 838.1, HI US              195940\n",
       "3  USC00519523      WAIMANALO EXPERIMENTAL FARM, HI US              191698\n",
       "4  USC00516128            MANOA LYON ARBO 785.2, HI US              176029\n",
       "5  USC00514830  KUALOA RANCH HEADQUARTERS 886.9, HI US              144913\n",
       "6  USC00511918       HONOLULU OBSERVATORY 702.2, HI US              138191\n",
       "7  USC00517948                       PEARL CITY, HI US               50943\n",
       "8  USC00518838              UPPER WAHIAWA 874.3, HI US               24855"
      ]
     },
     "execution_count": 43,
     "metadata": {},
     "output_type": "execute_result"
    }
   ],
   "source": [
    "#station with the highest number of observations in descending order\n",
    "station_df = pd.read_sql_query('select w_measurement.station, w_station.name, sum(tobs) as \"Total Observations\" \\\n",
    "from w_measurement \\\n",
    "inner join w_station \\\n",
    "on w_measurement.station = w_station.station \\\n",
    "group by name order by \"Total Observations\" desc', engine)\n",
    "station_df.head(10)"
   ]
  },
  {
   "cell_type": "code",
   "execution_count": 42,
   "metadata": {},
   "outputs": [
    {
     "data": {
      "text/html": [
       "<div>\n",
       "<style>\n",
       "    .dataframe thead tr:only-child th {\n",
       "        text-align: right;\n",
       "    }\n",
       "\n",
       "    .dataframe thead th {\n",
       "        text-align: left;\n",
       "    }\n",
       "\n",
       "    .dataframe tbody tr th {\n",
       "        vertical-align: top;\n",
       "    }\n",
       "</style>\n",
       "<table border=\"1\" class=\"dataframe\">\n",
       "  <thead>\n",
       "    <tr style=\"text-align: right;\">\n",
       "      <th></th>\n",
       "      <th>date</th>\n",
       "      <th>tobs</th>\n",
       "    </tr>\n",
       "  </thead>\n",
       "  <tbody>\n",
       "    <tr>\n",
       "      <th>0</th>\n",
       "      <td>2016-08-24</td>\n",
       "      <td>74.0</td>\n",
       "    </tr>\n",
       "    <tr>\n",
       "      <th>1</th>\n",
       "      <td>2016-08-25</td>\n",
       "      <td>77.0</td>\n",
       "    </tr>\n",
       "    <tr>\n",
       "      <th>2</th>\n",
       "      <td>2016-08-26</td>\n",
       "      <td>80.0</td>\n",
       "    </tr>\n",
       "    <tr>\n",
       "      <th>3</th>\n",
       "      <td>2016-08-27</td>\n",
       "      <td>75.0</td>\n",
       "    </tr>\n",
       "    <tr>\n",
       "      <th>4</th>\n",
       "      <td>2016-08-28</td>\n",
       "      <td>71.0</td>\n",
       "    </tr>\n",
       "    <tr>\n",
       "      <th>5</th>\n",
       "      <td>2016-08-29</td>\n",
       "      <td>78.0</td>\n",
       "    </tr>\n",
       "    <tr>\n",
       "      <th>6</th>\n",
       "      <td>2016-08-30</td>\n",
       "      <td>75.0</td>\n",
       "    </tr>\n",
       "    <tr>\n",
       "      <th>7</th>\n",
       "      <td>2016-08-31</td>\n",
       "      <td>76.0</td>\n",
       "    </tr>\n",
       "    <tr>\n",
       "      <th>8</th>\n",
       "      <td>2016-09-01</td>\n",
       "      <td>77.0</td>\n",
       "    </tr>\n",
       "    <tr>\n",
       "      <th>9</th>\n",
       "      <td>2016-09-02</td>\n",
       "      <td>75.0</td>\n",
       "    </tr>\n",
       "  </tbody>\n",
       "</table>\n",
       "</div>"
      ],
      "text/plain": [
       "        date  tobs\n",
       "0 2016-08-24  74.0\n",
       "1 2016-08-25  77.0\n",
       "2 2016-08-26  80.0\n",
       "3 2016-08-27  75.0\n",
       "4 2016-08-28  71.0\n",
       "5 2016-08-29  78.0\n",
       "6 2016-08-30  75.0\n",
       "7 2016-08-31  76.0\n",
       "8 2016-09-01  77.0\n",
       "9 2016-09-02  75.0"
      ]
     },
     "execution_count": 42,
     "metadata": {},
     "output_type": "execute_result"
    }
   ],
   "source": [
    "#12 months tobs data\n",
    "tobs_df = pd.DataFrame(weather_df, columns=['date', 'tobs'])\n",
    "tobs_df['date'] = pd.to_datetime(tobs_df['date'], format='%Y/%m/%d')\n",
    "tobs_df.set_index(tobs_df['date'])\n",
    "tobs_df.reset_index()\n",
    "tobs_df.tobs = tobs_df.tobs.astype(float)\n",
    "tobs_df.head(10)"
   ]
  },
  {
   "cell_type": "code",
   "execution_count": 44,
   "metadata": {
    "scrolled": false
   },
   "outputs": [
    {
     "data": {
      "image/png": "[encoded data removed]",
      "text/plain": [
       "<matplotlib.figure.Figure at 0x2a8ab709908>"
      ]
     },
     "metadata": {},
     "output_type": "display_data"
    }
   ],
   "source": [
    "#plot a histogram with 12 bins\n",
    "plt.figure(figsize=(15,8))\n",
    "plt.hist(tobs_df['tobs'], bins=12, label = 'tobs')\n",
    "plt.legend(loc='best')\n",
    "plt.xlabel('Temperatures')\n",
    "plt.ylabel('Frequency')\n",
    "plt.show()"
   ]
  },
  {
   "cell_type": "code",
   "execution_count": 45,
   "metadata": {},
   "outputs": [
    {
     "data": {
      "text/html": [
       "<div>\n",
       "<style>\n",
       "    .dataframe thead tr:only-child th {\n",
       "        text-align: right;\n",
       "    }\n",
       "\n",
       "    .dataframe thead th {\n",
       "        text-align: left;\n",
       "    }\n",
       "\n",
       "    .dataframe tbody tr th {\n",
       "        vertical-align: top;\n",
       "    }\n",
       "</style>\n",
       "<table border=\"1\" class=\"dataframe\">\n",
       "  <thead>\n",
       "    <tr style=\"text-align: right;\">\n",
       "      <th></th>\n",
       "      <th>station</th>\n",
       "      <th>date</th>\n",
       "      <th>prcp</th>\n",
       "      <th>tobs</th>\n",
       "      <th>name</th>\n",
       "      <th>latitude</th>\n",
       "      <th>longitude</th>\n",
       "      <th>elevation</th>\n",
       "    </tr>\n",
       "  </thead>\n",
       "  <tbody>\n",
       "    <tr>\n",
       "      <th>0</th>\n",
       "      <td>USC00516128</td>\n",
       "      <td>2010-01-01</td>\n",
       "      <td>0.14</td>\n",
       "      <td>73</td>\n",
       "      <td>MANOA LYON ARBO 785.2, HI US</td>\n",
       "      <td>21.3331</td>\n",
       "      <td>-157.8025</td>\n",
       "      <td>152.4</td>\n",
       "    </tr>\n",
       "    <tr>\n",
       "      <th>1</th>\n",
       "      <td>USC00516128</td>\n",
       "      <td>2010-01-02</td>\n",
       "      <td>0</td>\n",
       "      <td>61</td>\n",
       "      <td>MANOA LYON ARBO 785.2, HI US</td>\n",
       "      <td>21.3331</td>\n",
       "      <td>-157.8025</td>\n",
       "      <td>152.4</td>\n",
       "    </tr>\n",
       "    <tr>\n",
       "      <th>2</th>\n",
       "      <td>USC00516128</td>\n",
       "      <td>2010-01-03</td>\n",
       "      <td>0</td>\n",
       "      <td>76</td>\n",
       "      <td>MANOA LYON ARBO 785.2, HI US</td>\n",
       "      <td>21.3331</td>\n",
       "      <td>-157.8025</td>\n",
       "      <td>152.4</td>\n",
       "    </tr>\n",
       "    <tr>\n",
       "      <th>3</th>\n",
       "      <td>USC00516128</td>\n",
       "      <td>2010-01-04</td>\n",
       "      <td>0</td>\n",
       "      <td>72</td>\n",
       "      <td>MANOA LYON ARBO 785.2, HI US</td>\n",
       "      <td>21.3331</td>\n",
       "      <td>-157.8025</td>\n",
       "      <td>152.4</td>\n",
       "    </tr>\n",
       "    <tr>\n",
       "      <th>4</th>\n",
       "      <td>USC00516128</td>\n",
       "      <td>2010-01-05</td>\n",
       "      <td>0</td>\n",
       "      <td>74</td>\n",
       "      <td>MANOA LYON ARBO 785.2, HI US</td>\n",
       "      <td>21.3331</td>\n",
       "      <td>-157.8025</td>\n",
       "      <td>152.4</td>\n",
       "    </tr>\n",
       "    <tr>\n",
       "      <th>5</th>\n",
       "      <td>USC00516128</td>\n",
       "      <td>2010-01-06</td>\n",
       "      <td>0.36</td>\n",
       "      <td>71</td>\n",
       "      <td>MANOA LYON ARBO 785.2, HI US</td>\n",
       "      <td>21.3331</td>\n",
       "      <td>-157.8025</td>\n",
       "      <td>152.4</td>\n",
       "    </tr>\n",
       "    <tr>\n",
       "      <th>6</th>\n",
       "      <td>USC00516128</td>\n",
       "      <td>2010-01-07</td>\n",
       "      <td>0.3</td>\n",
       "      <td>74</td>\n",
       "      <td>MANOA LYON ARBO 785.2, HI US</td>\n",
       "      <td>21.3331</td>\n",
       "      <td>-157.8025</td>\n",
       "      <td>152.4</td>\n",
       "    </tr>\n",
       "    <tr>\n",
       "      <th>7</th>\n",
       "      <td>USC00516128</td>\n",
       "      <td>2010-01-08</td>\n",
       "      <td>0</td>\n",
       "      <td>64</td>\n",
       "      <td>MANOA LYON ARBO 785.2, HI US</td>\n",
       "      <td>21.3331</td>\n",
       "      <td>-157.8025</td>\n",
       "      <td>152.4</td>\n",
       "    </tr>\n",
       "    <tr>\n",
       "      <th>8</th>\n",
       "      <td>USC00516128</td>\n",
       "      <td>2010-01-09</td>\n",
       "      <td>0</td>\n",
       "      <td>67</td>\n",
       "      <td>MANOA LYON ARBO 785.2, HI US</td>\n",
       "      <td>21.3331</td>\n",
       "      <td>-157.8025</td>\n",
       "      <td>152.4</td>\n",
       "    </tr>\n",
       "    <tr>\n",
       "      <th>9</th>\n",
       "      <td>USC00516128</td>\n",
       "      <td>2010-01-10</td>\n",
       "      <td>0.01</td>\n",
       "      <td>71</td>\n",
       "      <td>MANOA LYON ARBO 785.2, HI US</td>\n",
       "      <td>21.3331</td>\n",
       "      <td>-157.8025</td>\n",
       "      <td>152.4</td>\n",
       "    </tr>\n",
       "  </tbody>\n",
       "</table>\n",
       "</div>"
      ],
      "text/plain": [
       "       station        date  prcp tobs                          name latitude  \\\n",
       "0  USC00516128  2010-01-01  0.14   73  MANOA LYON ARBO 785.2, HI US  21.3331   \n",
       "1  USC00516128  2010-01-02     0   61  MANOA LYON ARBO 785.2, HI US  21.3331   \n",
       "2  USC00516128  2010-01-03     0   76  MANOA LYON ARBO 785.2, HI US  21.3331   \n",
       "3  USC00516128  2010-01-04     0   72  MANOA LYON ARBO 785.2, HI US  21.3331   \n",
       "4  USC00516128  2010-01-05     0   74  MANOA LYON ARBO 785.2, HI US  21.3331   \n",
       "5  USC00516128  2010-01-06  0.36   71  MANOA LYON ARBO 785.2, HI US  21.3331   \n",
       "6  USC00516128  2010-01-07   0.3   74  MANOA LYON ARBO 785.2, HI US  21.3331   \n",
       "7  USC00516128  2010-01-08     0   64  MANOA LYON ARBO 785.2, HI US  21.3331   \n",
       "8  USC00516128  2010-01-09     0   67  MANOA LYON ARBO 785.2, HI US  21.3331   \n",
       "9  USC00516128  2010-01-10  0.01   71  MANOA LYON ARBO 785.2, HI US  21.3331   \n",
       "\n",
       "   longitude elevation  \n",
       "0  -157.8025     152.4  \n",
       "1  -157.8025     152.4  \n",
       "2  -157.8025     152.4  \n",
       "3  -157.8025     152.4  \n",
       "4  -157.8025     152.4  \n",
       "5  -157.8025     152.4  \n",
       "6  -157.8025     152.4  \n",
       "7  -157.8025     152.4  \n",
       "8  -157.8025     152.4  \n",
       "9  -157.8025     152.4  "
      ]
     },
     "execution_count": 45,
     "metadata": {},
     "output_type": "execute_result"
    }
   ],
   "source": [
    "#all data\n",
    "weather_df = pd.read_sql_query('select w_measurement.station, date, prcp, tobs, w_station.name, \\\n",
    "latitude, longitude, elevation \\\n",
    "from w_measurement \\\n",
    "inner join w_station \\\n",
    "on w_measurement.station = w_station.station \\\n",
    "group by date \\\n",
    "having date between \"2010-01-01\" and \"2017-08-23\"', engine)\n",
    "weather_df.head(10)"
   ]
  },
  {
   "cell_type": "code",
   "execution_count": 46,
   "metadata": {
    "collapsed": true
   },
   "outputs": [],
   "source": [
    "weather_df['tobs'] = weather_df['tobs'].astype('float64')"
   ]
  },
  {
   "cell_type": "code",
   "execution_count": 47,
   "metadata": {
    "collapsed": true
   },
   "outputs": [],
   "source": [
    "weather_df['date'] = pd.to_datetime(weather_df['date'])"
   ]
  },
  {
   "cell_type": "code",
   "execution_count": 49,
   "metadata": {
    "collapsed": true
   },
   "outputs": [],
   "source": [
    "#write a function that will return min, avg and max based on date range unput\n",
    "def calc_temps(start_date, end_date):\n",
    "    mask = (weather_df['date'] > start_date) & (weather_df['date'] < end_date)\n",
    "    temp_df = weather_df.loc[mask]  \n",
    "    \n",
    "    min_temp = temp_df['tobs'].min()    \n",
    "    avg_temp = temp_df['tobs'].mean()\n",
    "    max_temp = temp_df['tobs'].max()\n",
    "    \n",
    "    temps = {\n",
    "        'min temp': min_temp,\n",
    "        'avg temp': avg_temp,\n",
    "        'max temp': max_temp\n",
    "    }\n",
    "    return temps"
   ]
  },
  {
   "cell_type": "code",
   "execution_count": 25,
   "metadata": {},
   "outputs": [
    {
     "name": "stdout",
     "output_type": "stream",
     "text": [
      "Enter Start Date (YYYY-MM-DD): 2016-12-21\n",
      "Enter End Date (YYYY-MM-DD): 2017-01-09\n",
      "{'min temp': 65.0, 'avg temp': 68.77777777777777, 'max temp': 71.0}\n"
     ]
    }
   ],
   "source": [
    "#pick your trip dates\n",
    "start_date = input('Enter Start Date (YYYY-MM-DD): ')\n",
    "end_date = input('Enter End Date (YYYY-MM-DD): ')\n",
    "my_temps = calc_temps(start_date, end_date)\n",
    "print(my_temps)"
   ]
  },
  {
   "cell_type": "code",
   "execution_count": 50,
   "metadata": {},
   "outputs": [
    {
     "data": {
      "text/html": [
       "<div>\n",
       "<style>\n",
       "    .dataframe thead tr:only-child th {\n",
       "        text-align: right;\n",
       "    }\n",
       "\n",
       "    .dataframe thead th {\n",
       "        text-align: left;\n",
       "    }\n",
       "\n",
       "    .dataframe tbody tr th {\n",
       "        vertical-align: top;\n",
       "    }\n",
       "</style>\n",
       "<table border=\"1\" class=\"dataframe\">\n",
       "  <thead>\n",
       "    <tr style=\"text-align: right;\">\n",
       "      <th></th>\n",
       "      <th>avg temp</th>\n",
       "      <th>max temp</th>\n",
       "      <th>min temp</th>\n",
       "    </tr>\n",
       "  </thead>\n",
       "  <tbody>\n",
       "    <tr>\n",
       "      <th>0</th>\n",
       "      <td>68.777778</td>\n",
       "      <td>71.0</td>\n",
       "      <td>65.0</td>\n",
       "    </tr>\n",
       "  </tbody>\n",
       "</table>\n",
       "</div>"
      ],
      "text/plain": [
       "    avg temp  max temp  min temp\n",
       "0  68.777778      71.0      65.0"
      ]
     },
     "execution_count": 50,
     "metadata": {},
     "output_type": "execute_result"
    }
   ],
   "source": [
    "temp_range = pd.DataFrame([my_temps])\n",
    "temp_range"
   ]
  },
  {
   "cell_type": "code",
   "execution_count": 51,
   "metadata": {},
   "outputs": [
    {
     "data": {
      "text/plain": [
       "{'avg temp': '68.78', 'yerror': 6.0}"
      ]
     },
     "execution_count": 51,
     "metadata": {},
     "output_type": "execute_result"
    }
   ],
   "source": [
    "yerror = my_temps['max temp']-my_temps['min temp']\n",
    "avg_temp = '{:0,.2f}'.format(my_temps['avg temp'])\n",
    "#yerr\n",
    "#avg_temp\n",
    "bar_temps = {'avg temp': avg_temp, 'yerror': yerror}\n",
    "bar_temps"
   ]
  },
  {
   "cell_type": "code",
   "execution_count": 52,
   "metadata": {
    "scrolled": true
   },
   "outputs": [
    {
     "data": {
      "text/html": [
       "<div>\n",
       "<style>\n",
       "    .dataframe thead tr:only-child th {\n",
       "        text-align: right;\n",
       "    }\n",
       "\n",
       "    .dataframe thead th {\n",
       "        text-align: left;\n",
       "    }\n",
       "\n",
       "    .dataframe tbody tr th {\n",
       "        vertical-align: top;\n",
       "    }\n",
       "</style>\n",
       "<table border=\"1\" class=\"dataframe\">\n",
       "  <thead>\n",
       "    <tr style=\"text-align: right;\">\n",
       "      <th></th>\n",
       "      <th>avg temp</th>\n",
       "      <th>yerror</th>\n",
       "    </tr>\n",
       "  </thead>\n",
       "  <tbody>\n",
       "    <tr>\n",
       "      <th>0</th>\n",
       "      <td>68.78</td>\n",
       "      <td>6.0</td>\n",
       "    </tr>\n",
       "  </tbody>\n",
       "</table>\n",
       "</div>"
      ],
      "text/plain": [
       "  avg temp  yerror\n",
       "0    68.78     6.0"
      ]
     },
     "execution_count": 52,
     "metadata": {},
     "output_type": "execute_result"
    }
   ],
   "source": [
    "bar_range = pd.DataFrame([bar_temps])\n",
    "bar_range"
   ]
  },
  {
   "cell_type": "code",
   "execution_count": 53,
   "metadata": {},
   "outputs": [
    {
     "data": {
      "image/png": "[encoded data removed]",
      "text/plain": [
       "<matplotlib.figure.Figure at 0x2a8abf1fb70>"
      ]
     },
     "metadata": {},
     "output_type": "display_data"
    }
   ],
   "source": [
    "#bar chart with the y error bar\n",
    "with plt.style.context('seaborn-darkgrid'):\n",
    "\n",
    "    temp_mean = bar_range['avg temp'].astype(float)\n",
    "\n",
    "    error = bar_range['yerror'].astype(float)\n",
    "\n",
    "    #width = 50       \n",
    "\n",
    "    fig = plt.figure(figsize=(3,8))\n",
    "    ax = fig.add_subplot(111)\n",
    "    p1 = plt.bar('Average Temperature', temp_mean, yerr=error)\n",
    "    plt.ylabel('Temperature (F)')\n",
    "    plt.title('Trip Avg Temp')\n",
    "    plt.yticks(np.arange(0, 70, 10))\n",
    "\n",
    "    plt.show()"
   ]
  },
  {
   "cell_type": "code",
   "execution_count": null,
   "metadata": {
    "collapsed": true
   },
   "outputs": [],
   "source": []
  },
  {
   "cell_type": "code",
   "execution_count": null,
   "metadata": {
    "collapsed": true
   },
   "outputs": [],
   "source": []
  },
  {
   "cell_type": "code",
   "execution_count": null,
   "metadata": {
    "collapsed": true
   },
   "outputs": [],
   "source": []
  }
 ],
 "metadata": {
  "kernelspec": {
   "display_name": "Python 3",
   "language": "python",
   "name": "python3"
  },
  "language_info": {
   "codemirror_mode": {
    "name": "ipython",
    "version": 3
   },
   "file_extension": ".py",
   "mimetype": "text/x-python",
   "name": "python",
   "nbconvert_exporter": "python",
   "pygments_lexer": "ipython3",
   "version": "3.6.3"
  }
 },
 "nbformat": 4,
 "nbformat_minor": 2
}
