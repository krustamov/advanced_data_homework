{
 "cells": [
  {
   "cell_type": "code",
   "execution_count": null,
   "metadata": {},
   "outputs": [],
   "source": [
    "%matplotlib inline"
   ]
  },
  {
   "cell_type": "markdown",
   "metadata": {},
   "source": [
    "\n",
    "# Stacked Bar Graph\n",
    "\n",
    "\n",
    "This is an example of creating a stacked bar plot with error bars\n",
    "using `~matplotlib.pyplot.bar`.  Note the parameters *yerr* used for\n",
    "error bars, and *bottom* to stack the women's bars on top of the men's\n",
    "bars.\n",
    "\n",
    "\n"
   ]
  },
  {
   "cell_type": "code",
   "execution_count": 61,
   "metadata": {},
   "outputs": [
    {
     "data": {
      "image/png": "[encoded data removed]",
      "text/plain": [
       "<matplotlib.figure.Figure at 0x2340100b828>"
      ]
     },
     "metadata": {},
     "output_type": "display_data"
    }
   ],
   "source": [
    "import numpy as np\n",
    "import matplotlib.pyplot as plt\n",
    "\n",
    "\n",
    "\n",
    "with plt.style.context('seaborn-darkgrid'):\n",
    "\n",
    "    temp_mean = (68)\n",
    "\n",
    "    error = (6)\n",
    "\n",
    "    #width = 50       \n",
    "\n",
    "    fig = plt.figure(figsize=(3,8))\n",
    "    ax = fig.add_subplot(111)\n",
    "    p1 = plt.bar('Average Temperature', temp_mean, yerr=error)\n",
    "    plt.ylabel('Temperature (F)')\n",
    "    plt.title('Trip Avg Temp')\n",
    "    plt.yticks(np.arange(0, 68, 10))\n",
    "\n",
    "    plt.show()"
   ]
  },
  {
   "cell_type": "code",
   "execution_count": null,
   "metadata": {
    "collapsed": true
   },
   "outputs": [],
   "source": []
  }
 ],
 "metadata": {
  "kernelspec": {
   "display_name": "Python 3",
   "language": "python",
   "name": "python3"
  },
  "language_info": {
   "codemirror_mode": {
    "name": "ipython",
    "version": 3
   },
   "file_extension": ".py",
   "mimetype": "text/x-python",
   "name": "python",
   "nbconvert_exporter": "python",
   "pygments_lexer": "ipython3",
   "version": "3.6.3"
  }
 },
 "nbformat": 4,
 "nbformat_minor": 1
}
